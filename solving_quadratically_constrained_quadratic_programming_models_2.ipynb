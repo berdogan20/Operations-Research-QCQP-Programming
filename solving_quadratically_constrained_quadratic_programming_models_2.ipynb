{
 "cells": [
  {
   "cell_type": "markdown",
   "metadata": {},
   "source": [
    "# Solving Quadratically Constrained Quadratic Programming Models\n"]
  },
  {
   "cell_type": "code",
   "execution_count": 1,
   "metadata": {},
   "outputs": [],
   "source": [
    "# load libraries\n",
    "import matplotlib.pyplot as plt\n",
    "import numpy as np\n",
    "import scipy.sparse as sp\n",
    "\n",
    "import cplex as cp"
   ]
  },
  {
   "cell_type": "markdown",
   "metadata": {},
   "source": [
    "### Finding minimal enclosing circle\n",
    "The minimal enclosing circle problem is the problem of finding the circle of smallest radius that contains a given set of points in its interior or on its boundary. This smallest circle is known as the minimal enclosing circle.\n",
    "\n",
    "The minimal enclosing circle problem in the plane is an example of a facility location problem in which the location of a new facility must be chosen to provide service to a number of customers, minimizing the farthest distance that any customer must travel to reach the new facility.\n",
    "\n",
    "Let us assume that we are given $N$ locations $\\{(a_{1}, b_{1}), (a_{2}, b_{2}), \\dots, (a_{N}, b_{N})\\}$ and we need to find the center of the minimal enclosing circle denoted as $(x, y)$ and the radius of this circle denoted as $r$. We can formulate the problem as the following QCQP:\n",
    "\n",
    "\\begin{align*}\n",
    "\\mbox{minimize} \\;\\;& r^{2} \\\\\n",
    "\\mbox{subject to:} \\;\\;& (a_{1} - x)^2 + (b_{1} - y)^2 \\leq r^{2}\\\\\n",
    "\\;\\;& (a_{2} - x)^2 + (b_{2} - y)^2 \\leq r^{2} \\\\\n",
    "\\;\\;& \\vdots \\\\\n",
    "\\;\\;& (a_{N} - x)^2 + (b_{N} - y)^2 \\leq r^{2}\n",
    "\\end{align*}\n",
    "\n",
    "$\\;$\n",
    "\n",
    "\\begin{align*}\n",
    "\\mbox{minimize} \\;\\;& R \\\\\n",
    "\\mbox{subject to:} \\;\\;& -2a_{1}x - 2b_{1}y - R + x^{2} + y^{2} \\leq -a_{1}^{2} -b_{1}^{2} \\\\\n",
    "\\;\\;& -2a_{2}x - 2b_{2}y - R + x^{2} + y^{2} \\leq -a_{2}^{2} -b_{2}^{2} \\\\\n",
    "\\;\\;& \\vdots \\\\\n",
    "\\;\\;& -2a_{N}x - 2b_{N}y - R + x^{2} + y^{2} \\leq -a_{N}^{2} -b_{N}^{2}\n",
    "\\end{align*}\n",
    "\n",
    "$\\;$\n",
    "\n",
    "\\begin{align*}\n",
    "\\mbox{minimize} \\;\\;& \\begin{bmatrix}0 & 0 & 1\\end{bmatrix} \\begin{bmatrix} x\\\\ y\\\\ R\\end{bmatrix} +  \\dfrac{1}{2}\\begin{bmatrix} x & y & R\\end{bmatrix} \\begin{bmatrix} 0 & 0 & 0\\\\ 0 & 0 & 0\\\\ 0 & 0 & 0\\end{bmatrix} \\begin{bmatrix} x\\\\ y\\\\ R\\end{bmatrix} \\\\\n",
    "\\mbox{subject to:} \\;\\;& \\begin{bmatrix}-2a_{1} & -2b_{1} & -1\\end{bmatrix} \\begin{bmatrix} x\\\\ y\\\\ R\\end{bmatrix} +  \\begin{bmatrix} x & y & R\\end{bmatrix} \\begin{bmatrix} 1 & 0 & 0\\\\ 0 & 1 & 0\\\\ 0 & 0 & 0\\end{bmatrix} \\begin{bmatrix} x\\\\ y\\\\ R\\end{bmatrix} \\leq -a_{1}^{2} -b_{1}^{2} \\\\\n",
    "\\;\\;& \\begin{bmatrix}-2a_{2} & -2b_{2} & -1\\end{bmatrix} \\begin{bmatrix} x\\\\ y\\\\ R\\end{bmatrix} +  \\begin{bmatrix} x & y & R\\end{bmatrix} \\begin{bmatrix} 1 & 0 & 0\\\\ 0 & 1 & 0\\\\ 0 & 0 & 0\\end{bmatrix} \\begin{bmatrix} x\\\\ y\\\\ R\\end{bmatrix} \\leq -a_{2}^{2} -b_{2}^{2} \\\\\n",
    "\\;\\;& \\vdots \\\\\n",
    "\\;\\;& \\begin{bmatrix}-2a_{N} & -2b_{N} & -1\\end{bmatrix} \\begin{bmatrix} x\\\\ y\\\\ R\\end{bmatrix} +  \\begin{bmatrix} x & y & R\\end{bmatrix} \\begin{bmatrix} 1 & 0 & 0\\\\ 0 & 1 & 0\\\\ 0 & 0 & 0\\end{bmatrix} \\begin{bmatrix} x\\\\ y\\\\ R\\end{bmatrix} \\leq -a_{N}^{2} -b_{N}^{2}\n",
    "\\end{align*}"
   ]
  },
  {
   "cell_type": "code",
   "execution_count": 2,
   "metadata": {},
   "outputs": [],
   "source": [
    "def minimal_enclosing_circle(coordinates):\n",
    "    N = coordinates.shape[0]\n",
    "\n",
    "    # create an empty optimization problem\n",
    "    prob = cp.Cplex()\n",
    "\n",
    "    # add decision variables to the problem including their linear coefficients in objective and ranges\n",
    "    prob.variables.add(obj = [0, 0, 1],\n",
    "                       lb = [-cp.infinity, -cp.infinity, 0],\n",
    "                       ub = [+cp.infinity, +cp.infinity, +cp.infinity],\n",
    "                       names = [\"x\", \"y\", \"R\"])\n",
    "\n",
    "    # define problem type\n",
    "    prob.objective.set_sense(prob.objective.sense.minimize)\n",
    "\n",
    "    # add quadratic constraints to the problem including their directions and right-hand side values\n",
    "    for i in range(N):\n",
    "        prob.quadratic_constraints.add(lin_expr = cp.SparsePair([0, 1, 2],\n",
    "                                                                [-2 * coordinates[i, 0], -2 * coordinates[i, 1], -1]),\n",
    "                                       quad_expr = cp.SparseTriple(ind1 = [0, 1], ind2 = [0, 1], val = [1, 1]),\n",
    "                                       sense = \"L\", rhs = -coordinates[i, 0]**2 - coordinates[i, 1]**2)\n",
    "\n",
    "    print(prob.write_as_string())\n",
    "\n",
    "    # solve the problem\n",
    "    prob.solve()\n",
    "\n",
    "    # check the solution status\n",
    "    print(prob.solution.get_status())\n",
    "    print(prob.solution.status[prob.solution.get_status()])\n",
    "\n",
    "    # get the solution\n",
    "    x_star, y_star, R_star = prob.solution.get_values()\n",
    "    r_star = np.sqrt(R_star)\n",
    "\n",
    "    return(x_star, y_star, r_star)"
   ]
  },
  {
   "cell_type": "code",
   "execution_count": 3,
   "metadata": {},
   "outputs": [
    {
     "name": "stderr",
     "output_type": "stream",
     "text": [
      "Default row names c1, c2 ... being created.\n"
     ]
    },
    {
     "name": "stdout",
     "output_type": "stream",
     "text": [
      "\\ENCODING=ISO-8859-1\n",
      "\\Problem name: \n",
      "\n",
      "Minimize\n",
      " obj1: 0 x + 0 y + R\n",
      "Subject To\n",
      " q1: - 6 x - 8 y - R + [ x ^2 + y ^2 ] <= -25\n",
      " q2: - 6 x - 4 y - R + [ x ^2 + y ^2 ] <= -13\n",
      " q3: - 14 x - 4 y - R + [ x ^2 + y ^2 ] <= -53\n",
      " q4: - 6 x - 16 y - R + [ x ^2 + y ^2 ] <= -73\n",
      " q5: - 10 x - 6 y - R + [ x ^2 + y ^2 ] <= -34\n",
      "Bounds\n",
      "      x Free\n",
      "      y Free\n",
      "End\n",
      "\n",
      "Version identifier: 22.1.0.0 | 2022-03-09 | 1a383f8ce\n",
      "CPXPARAM_Read_DataCheck                          1\n",
      "Tried aggregator 1 time.\n",
      "Reduced QCP has 18 rows, 21 columns, and 46 nonzeros.\n",
      "Reduced QCP has 5 quadratic constraints.\n",
      "Presolve time = 0.00 sec. (0.01 ticks)\n",
      "Parallel mode: using up to 2 threads for barrier.\n",
      "Number of nonzeros in lower triangle of A*A' = 103\n",
      "Using Approximate Minimum Degree ordering\n",
      "Total time for automatic ordering = 0.00 sec. (0.00 ticks)\n",
      "Summary statistics for Cholesky factor:\n",
      "  Threads                   = 2\n",
      "  Rows in Factor            = 18\n",
      "  Integer space required    = 18\n",
      "  Total non-zeros in factor = 171\n",
      "  Total FP ops to factor    = 2109\n",
      " Itn      Primal Obj        Dual Obj  Prim Inf Upper Inf  Dual Inf Inf Ratio\n",
      "   0   1.0000000e+00   0.0000000e+00  3.12e+01  0.00e+00  7.07e+00  1.00e+00\n",
      "   1   5.6472921e+00   8.1986548e+00  3.12e+01  0.00e+00  7.07e+00  2.70e-01\n",
      "   2   1.2823550e+01   1.3719133e+01  1.81e+01  0.00e+00  4.09e+00  8.53e-01\n",
      "   3   1.2007613e+01   1.2316238e+01  4.32e+00  0.00e+00  9.78e-01  2.54e+00\n",
      "   4   1.2714130e+01   1.2935143e+01  1.34e+00  0.00e+00  3.02e-01  3.55e+00\n",
      "   5   1.2922619e+01   1.2952655e+01  9.45e-01  0.00e+00  2.14e-01  2.67e+01\n",
      "   6   1.2961301e+01   1.2980101e+01  1.17e-01  0.00e+00  2.64e-02  4.28e+01\n",
      "   7   1.2987254e+01   1.2992601e+01  7.10e-02  0.00e+00  1.61e-02  1.53e+02\n",
      "   8   1.2998182e+01   1.2999161e+01  1.84e-02  0.00e+00  4.16e-03  8.49e+02\n",
      "   9   1.2999977e+01   1.3000013e+01  3.11e-03  0.00e+00  7.03e-04  2.32e+04\n",
      "  10   1.2999999e+01   1.3000000e+01  1.13e-04  0.00e+00  2.55e-05  1.14e+06\n",
      "  11   1.3000000e+01   1.3000000e+01  2.22e-06  0.00e+00  5.04e-07  6.58e+06\n",
      "1\n",
      "optimal\n"
     ]
    }
   ],
   "source": [
    "coordinates = np.array([[3, 4],\n",
    "                        [3, 2],\n",
    "                        [7, 2],\n",
    "                        [3, 8],\n",
    "                        [5, 3]]).astype(\"float\")\n",
    "\n",
    "x_star, y_star, r_star = minimal_enclosing_circle(coordinates)"
   ]
  },
  {
   "cell_type": "code",
   "execution_count": 4,
   "metadata": {},
   "outputs": [
    {
     "data": {
      "image/png": "[encoded data removed]",
      "text/plain": [
       "<Figure size 720x720 with 1 Axes>"
      ]
     },
     "metadata": {
      "needs_background": "light"
     },
     "output_type": "display_data"
    }
   ],
   "source": [
    "figure, axes = plt.subplots(figsize = (10, 10))\n",
    "draw_circle = plt.Circle((x_star, y_star), radius = r_star)\n",
    "axes.add_artist(draw_circle)\n",
    "plt.plot(coordinates[:,0], coordinates[:,1], \"o\", color = \"black\", markersize = 8)\n",
    "plt.plot(x_star, y_star, \"o\", color = \"red\", markersize = 12)\n",
    "plt.xlim([x_star - 1.2 * r_star, x_star + 1.2 * r_star])\n",
    "plt.ylim([y_star - 1.2 * r_star, y_star + 1.2 * r_star])\n",
    "plt.show()"
   ]
  },
  {
   "cell_type": "code",
   "execution_count": 5,
   "metadata": {},
   "outputs": [
    {
     "name": "stderr",
     "output_type": "stream",
     "text": [
      "Default row names c1, c2 ... being created.\n"
     ]
    },
    {
     "name": "stdout",
     "output_type": "stream",
     "text": [
      "\\ENCODING=ISO-8859-1\n",
      "\\Problem name: \n",
      "\n",
      "Minimize\n",
      " obj1: 0 x + 0 y + R\n",
      "Subject To\n",
      " q1:  - 11.5373563339109 x - 6.5551121216095 y - R + [ x ^2 + y ^2 ]\n",
      "      <= -44.0200215256266\n",
      " q2:  - 15.5945319167268 x - 9.92233983443212 y - R + [ x ^2 + y ^2 ]\n",
      "      <= -85.4105633729419\n",
      " q3:  - 15.0780758038568 x - 9.04240000023887 y - R + [ x ^2 + y ^2 ]\n",
      "      <= -77.2783419277926\n",
      " q4:  - 14.7112703259033 x - 5.82714642822064 y - R + [ x ^2 + y ^2 ]\n",
      "      <= -62.5942775244317\n",
      " q5:  - 5.90635508063365 x - 6.94151537918437 y - R + [ x ^2 + y ^2 ]\n",
      "      <= -20.767416524495\n",
      " q6:  - 8.32393956123102 x - 8.76981758174301 y - R + [ x ^2 + y ^2 ]\n",
      "      <= -36.5494175590189\n",
      " q7:  - 7.13104859005669 x - 6.60214989618856 y - R + [ x ^2 + y ^2 ]\n",
      "      <= -23.610059311373\n",
      " q8:  - 11.8976102817303 x - 5.77253180919437 y - R + [ x ^2 + y ^2 ]\n",
      "      <= -43.7188134760241\n",
      " q9:  - 7.30376136639362 x - 7.64395159031015 y - R + [ x ^2 + y ^2 ]\n",
      "      <= -27.9437315030573\n",
      " q10: - 10.8251004652417 x - 14.6961247038752 y - R + [ x ^2 + y ^2 ]\n",
      "      <= -83.2897203486069\n",
      " q11: - 15.1767879610627 x - 8.7310954961461 y - R + [ x ^2 + y ^2 ]\n",
      "      <= -76.64173034447\n",
      " q12: - 15.2074167608829 x - 9.14163119298309 y - R + [ x ^2 + y ^2 ]\n",
      "      <= -78.7087363519259\n",
      " q13: - 14.2461889709358 x - 14.391095044557 y - R + [ x ^2 + y ^2 ]\n",
      "      <= -102.514379194271\n",
      " q14: - 15.5793314478655 x - 6.05211999637492 y - R + [ x ^2 + y ^2 ]\n",
      "      <= -69.835931203243\n",
      " q15: - 7.62857712969029 x - 6.91954402311662 y - R + [ x ^2 + y ^2 ]\n",
      "      <= -26.5188196278707\n",
      " q16: - 7.14118423904047 x - 12.0016250282642 y - R + [ x ^2 + y ^2 ]\n",
      "      <= -48.7588789137441\n",
      " q17: - 10.0956123156536 x - 13.9123813326411 y - R + [ x ^2 + y ^2 ]\n",
      "      <= -73.8689355931992\n",
      " q18: - 6.73730884542234 x - 12.7547942001788 y - R + [ x ^2 + y ^2 ]\n",
      "      <= -52.0190263918801\n",
      " q19: - 9.00884488501667 x - 11.0486980023708 y - R + [ x ^2 + y ^2 ]\n",
      "      <= -50.8082534274707\n",
      " q20: - 7.4096932705305 x - 9.50633161311162 y - R + [ x ^2 + y ^2 ]\n",
      "      <= -36.3184737754476\n",
      " q21: - 8.15498212618316 x - 4.96605177779905 y - R + [ x ^2 + y ^2 ]\n",
      "      <= -22.791350934537\n",
      " q22: - 14.2841994629135 x - 14.0344348012285 y - R + [ x ^2 + y ^2 ]\n",
      "      <= -100.250928621558\n",
      " q23: - 8.08196111872185 x - 14.2773262973367 y - R + [ x ^2 + y ^2 ]\n",
      "      <= -67.2900354312882\n",
      " q24: - 4.11527158527134 x - 15.0931500149335 y - R + [ x ^2 + y ^2 ]\n",
      "      <= -61.1846593984571\n",
      " q25: - 14.5813797059926 x - 6.02295181386925 y - R + [ x ^2 + y ^2 ]\n",
      "      <= -62.2231456706311\n",
      "Bounds\n",
      "      x Free\n",
      "      y Free\n",
      "End\n",
      "\n",
      "Version identifier: 22.1.0.0 | 2022-03-09 | 1a383f8ce\n",
      "CPXPARAM_Read_DataCheck                          1\n",
      "Tried aggregator 1 time.\n",
      "Reduced QCP has 98 rows, 101 columns, and 246 nonzeros.\n",
      "Reduced QCP has 25 quadratic constraints.\n",
      "Presolve time = 0.00 sec. (0.06 ticks)\n",
      "Parallel mode: using up to 2 threads for barrier.\n",
      "Number of nonzeros in lower triangle of A*A' = 2773\n",
      "Using Approximate Minimum Degree ordering\n",
      "Total time for automatic ordering = 0.00 sec. (0.08 ticks)\n",
      "Summary statistics for Cholesky factor:\n",
      "  Threads                   = 2\n",
      "  Rows in Factor            = 98\n",
      "  Integer space required    = 170\n",
      "  Total non-zeros in factor = 2871\n",
      "  Total FP ops to factor    = 138209\n",
      " Itn      Primal Obj        Dual Obj  Prim Inf Upper Inf  Dual Inf Inf Ratio\n",
      "   0   1.0000000e+00   0.0000000e+00  1.96e+02  0.00e+00  3.54e+01  1.00e+00\n",
      "   1   5.1886271e+00   5.3637704e+00  1.96e+02  0.00e+00  3.54e+01  5.22e-01\n",
      "   2   2.1113025e+01   2.1648740e+01  1.71e+02  0.00e+00  3.08e+01  5.79e-01\n",
      "   3   2.5122962e+01   2.5708546e+01  1.17e+02  0.00e+00  2.10e+01  1.09e+00\n",
      "   4   1.3704799e+01   1.4016703e+01  3.29e+01  0.00e+00  5.92e+00  2.12e+00\n",
      "   5   1.4654207e+01   1.4927921e+01  1.57e+01  0.00e+00  2.84e+00  2.44e+00\n",
      "   6   1.3033533e+01   1.3135131e+01  1.33e+01  0.00e+00  2.39e+00  6.73e+00\n",
      "   7   1.3366980e+01   1.3406349e+01  4.61e+00  0.00e+00  8.31e-01  1.88e+01\n",
      "   8   1.3307066e+01   1.3310694e+01  1.36e+00  0.00e+00  2.44e-01  2.16e+02\n",
      "   9   1.3317598e+01   1.3319925e+01  9.93e-02  0.00e+00  1.79e-02  3.41e+02\n",
      "  10   1.3320790e+01   1.3321636e+01  5.97e-02  0.00e+00  1.08e-02  9.45e+02\n",
      "  11   1.3322697e+01   1.3322727e+01  2.08e-02  0.00e+00  3.74e-03  2.65e+04\n",
      "  12   1.3322800e+01   1.3322802e+01  7.20e-04  0.00e+00  1.30e-04  4.08e+05\n",
      "  13   1.3322804e+01   1.3322805e+01  4.65e-05  0.00e+00  8.38e-06  1.56e+06\n",
      "1\n",
      "optimal\n"
     ]
    }
   ],
   "source": [
    "coordinates = np.random.uniform(low = 2, high = 8, size = 50).reshape((25, 2))\n",
    "\n",
    "x_star, y_star, r_star = minimal_enclosing_circle(coordinates)"
   ]
  },
  {
   "cell_type": "code",
   "execution_count": 6,
   "metadata": {},
   "outputs": [
    {
     "data": {
      "image/png": "[encoded data removed]",
      "text/plain": [
       "<Figure size 720x720 with 1 Axes>"
      ]
     },
     "metadata": {
      "needs_background": "light"
     },
     "output_type": "display_data"
    }
   ],
   "source": [
    "figure, axes = plt.subplots(figsize = (10, 10))\n",
    "draw_circle = plt.Circle((x_star, y_star), radius = r_star)\n",
    "axes.add_artist(draw_circle)\n",
    "plt.plot(coordinates[:,0], coordinates[:,1], \"o\", color = \"black\", markersize = 8)\n",
    "plt.plot(x_star, y_star, \"o\", color = \"red\", markersize = 12)\n",
    "plt.xlim([x_star - 1.2 * r_star, x_star + 1.2 * r_star])\n",
    "plt.ylim([y_star - 1.2 * r_star, y_star + 1.2 * r_star])\n",
    "plt.show()"
   ]
  }
 ],
 "metadata": {
  "kernelspec": {
   "display_name": "Python 3",
   "language": "python",
   "name": "python3"
  },
  "language_info": {
   "codemirror_mode": {
    "name": "ipython",
    "version": 3
   },
   "file_extension": ".py",
   "mimetype": "text/x-python",
   "name": "python",
   "nbconvert_exporter": "python",
   "pygments_lexer": "ipython3",
   "version": "3.7.7"
  }
 },
 "nbformat": 4,
 "nbformat_minor": 4
}
