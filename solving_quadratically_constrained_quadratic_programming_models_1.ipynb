{
 "cells": [
  {
   "cell_type": "markdown",
   "metadata": {},
   "source": [
    "# Solving Quadratically Constrained Quadratic Programming Models\n"]
  },
  {
   "cell_type": "code",
   "execution_count": 1,
   "metadata": {},
   "outputs": [],
   "source": [
    "# load libraries\n",
    "import numpy as np\n",
    "import scipy.sparse as sp\n",
    "\n",
    "import cplex as cp"
   ]
  },
  {
   "cell_type": "markdown",
   "metadata": {},
   "source": [
    "## Quadratically constrained quadratic programming\n",
    "Quadratically constrained quadratic programming concerns the optimization of a quadratic objective function subject to quadratic constraints and linear constraints, i.e., the problem:\n",
    "\n",
    "\\begin{align*}\n",
    "\\mbox{minimize} \\;\\;& \\sum\\limits_{i=1}^{N} c_{0i} x_{i} + \\dfrac{1}{2} \\sum\\limits_{i=1}^{N} \\sum\\limits_{j=1}^{N} q_{0ij} x_{i} x_{j} \\\\\n",
    "\\mbox{subject to:} \\;\\;& \\sum\\limits_{i=1}^{N} c_{ni} x_{i} + \\sum\\limits_{i=1}^{N} \\sum\\limits_{j=1}^{N} q_{nij} x_{i} x_{j} \\leq d_{n} \\;\\;\\;\\; n = 1, 2, \\dots, P\\\\\n",
    " \\;\\;& \\sum\\limits_{i=1}^{N} a_{mi} x_{i} \\leq b_{m} \\;\\;\\;\\; m = 1, 2, \\dots, M\\\\\n",
    "\\;\\;& l_{i} \\leq x_{i} \\leq u_{i} \\;\\;\\;\\; i = 1, 2, \\dots, N.\n",
    "\\end{align*}\n",
    "\n",
    "The same problem can be converted into matrix-vector notation as follows:\n",
    "\n",
    "\\begin{align*}\n",
    "\\mbox{minimize} \\;\\;& \\boldsymbol{c}_{0}^{\\top} \\boldsymbol{x} + \\dfrac{1}{2} \\boldsymbol{x}^{\\top} \\mathbf{Q}_{0} \\boldsymbol{x} \\\\\n",
    "\\mbox{subject to:} \\;\\;& \\boldsymbol{c}_{n}^{\\top} \\boldsymbol{x} + \\boldsymbol{x}^{\\top} \\mathbf{Q}_{n} \\boldsymbol{x} \\leq d_{n} \\;\\;\\;\\; n = 1, 2, \\dots, P\\\\\n",
    " \\;\\;& \\mathbf{A} \\boldsymbol{x} \\leq \\boldsymbol{b} \\\\\n",
    "\\;\\;& \\boldsymbol{l} \\leq \\boldsymbol{x} \\leq \\boldsymbol{u}.\n",
    "\\end{align*}"
   ]
  },
  {
   "cell_type": "markdown",
   "metadata": {},
   "source": [
    "### Example problem\n",
    "\\begin{align*}\n",
    "\\mbox{maximize} \\;\\;& x_{1} + 2 x_{2} + 3 x_{3} - \\dfrac{1}{2}\\left(33x_{1}^{2} + 22x_{2}^{2} + 11x_{3}^{2} - 12 x_{1} x_{2} - 23 x_{2} x_{3} \\right) \\\\\n",
    "\\mbox{subject to:}\\;\\;& x_{1}^{2} + x_{2}^{2} + x_{3}^{2} \\leq 1 \\\\\n",
    "\\;\\;& -x_{1} +x_{2} + x_{3} \\leq 20 \\\\\n",
    "\\;\\;& x_{1} - 3x_{2} + x_{3} \\leq 30 \\\\\n",
    "\\;\\;&  0 \\leq x_{1} \\leq 40\\\\\n",
    "\\;\\;&  0 \\leq x_{2} \\leq 40\\\\\n",
    "\\;\\;&  0 \\leq x_{3} \\leq 40.\n",
    "\\end{align*}"
   ]
  },
  {
   "cell_type": "markdown",
   "metadata": {},
   "source": [
    "\\begin{align*}\n",
    "\\mbox{maximize} \\;\\;& \\begin{bmatrix}1 & 2 & 3\\end{bmatrix} \\begin{bmatrix} x_{1}\\\\ x_{2}\\\\ x_{3}\\end{bmatrix} +  \\dfrac{1}{2}\\begin{bmatrix} x_{1} & x_{2} & x_{3}\\end{bmatrix} \\begin{bmatrix} -33 & 6 & 0\\\\ 6 & -22 & 11.5\\\\ 0 & 11.5 & -11\\end{bmatrix} \\begin{bmatrix} x_{1}\\\\ x_{2}\\\\ x_{3}\\end{bmatrix} \\\\\n",
    "\\mbox{subject to:}\\;\\;& \\begin{bmatrix}0 & 0 & 0\\end{bmatrix} \\begin{bmatrix} x_{1}\\\\ x_{2}\\\\ x_{3}\\end{bmatrix} + \\begin{bmatrix} x_{1} & x_{2} & x_{3}\\end{bmatrix} \\begin{bmatrix} 1 & 0 & 0\\\\ 0 & 1 & 0\\\\ 0 & 0 & 1\\end{bmatrix} \\begin{bmatrix} x_{1}\\\\ x_{2}\\\\ x_{3}\\end{bmatrix} \\leq 1 \\\\\n",
    "\\;\\;& \\begin{bmatrix} -1 & 1 & 1\\\\ 1 & -3 & 1\\end{bmatrix}\\begin{bmatrix} x_{1}\\\\ x_{2}\\\\ x_{3}\\end{bmatrix} \\leq \\begin{bmatrix} 20 \\\\30 \\end{bmatrix} \\\\\n",
    "\\;\\;&  \\begin{bmatrix} 0\\\\ 0\\\\ 0\\end{bmatrix} \\leq \\begin{bmatrix} x_{1}\\\\ x_{2}\\\\ x_{3}\\end{bmatrix} \\leq \\begin{bmatrix} 40\\\\ 40\\\\ 40\\end{bmatrix}.\n",
    "\\end{align*}"
   ]
  },
  {
   "cell_type": "code",
   "execution_count": 2,
   "metadata": {},
   "outputs": [],
   "source": [
    "direction = \"maximize\"\n",
    "c0 = np.array([1, 2, 3])\n",
    "Q0 = sp.csr_matrix(np.array([[-33, +6, 0],\n",
    "                             [+6, -22, +11.5],\n",
    "                             [0, +11.5, -11]]))\n",
    "\n",
    "c1 = np.array([0, 0, 0])\n",
    "Q1 = sp.csr_matrix(np.array([[1, 0, 0],\n",
    "                             [0, 1, 0],\n",
    "                             [0, 0, 1]]))\n",
    "sense1 = \"L\"\n",
    "d1 = 1.0\n",
    "\n",
    "A = sp.csr_matrix(np.array([[-1, +1, +1],\n",
    "                            [+1, -3, +1]]))\n",
    "senses = np.array([\"L\", \"L\"])\n",
    "b = np.array([20, 30])\n",
    "\n",
    "l = np.array([0, 0, 0])\n",
    "u = np.array([40, 40, 40])"
   ]
  },
  {
   "cell_type": "code",
   "execution_count": 3,
   "metadata": {},
   "outputs": [
    {
     "name": "stderr",
     "output_type": "stream",
     "text": [
      "Default variable names x1, x2 ... being created.\n",
      "Default row names c1, c2 ... being created.\n"
     ]
    },
    {
     "name": "stdout",
     "output_type": "stream",
     "text": [
      "\\ENCODING=ISO-8859-1\n",
      "\\Problem name: \n",
      "\n",
      "Maximize\n",
      " obj1: x1 + 2 x2 + 3 x3 + [ - 33 x1 ^2 + 12 x1 * x2 - 22 x2 ^2 + 23 x2 * x3\n",
      "       - 11 x3 ^2 ] / 2\n",
      "Subject To\n",
      " c1: - x1 + x2 + x3 <= 20\n",
      " c2: x1 - 3 x2 + x3 <= 30\n",
      " q1: [ x1 ^2 + x2 ^2 + x3 ^2 ] <= 1\n",
      "Bounds\n",
      " 0 <= x1 <= 40\n",
      " 0 <= x2 <= 40\n",
      " 0 <= x3 <= 40\n",
      "End\n",
      "\n",
      "Version identifier: 22.1.0.0 | 2022-03-09 | 1a383f8ce\n",
      "CPXPARAM_Read_DataCheck                          1\n",
      "Tried aggregator 1 time.\n",
      "Aggregator did 1 substitutions.\n",
      "Reduced QCP has 14 rows, 9 columns, and 24 nonzeros.\n",
      "Reduced QCP has 2 quadratic constraints.\n",
      "Presolve time = 0.00 sec. (0.01 ticks)\n",
      "Parallel mode: using up to 2 threads for barrier.\n",
      "Number of nonzeros in lower triangle of A*A' = 73\n",
      "Using Approximate Minimum Degree ordering\n",
      "Total time for automatic ordering = 0.01 sec. (0.00 ticks)\n",
      "Summary statistics for Cholesky factor:\n",
      "  Threads                   = 2\n",
      "  Rows in Factor            = 14\n",
      "  Integer space required    = 14\n",
      "  Total non-zeros in factor = 105\n",
      "  Total FP ops to factor    = 1015\n",
      " Itn      Primal Obj        Dual Obj  Prim Inf Upper Inf  Dual Inf Inf Ratio\n",
      "   0  -1.8284271e+00   1.0000000e+00  1.70e+02  0.00e+00  1.80e+01  1.00e+00\n",
      "   1  -5.1411123e+00  -7.5884688e+00  1.70e+02  0.00e+00  1.80e+01  1.78e-01\n",
      "   2  -1.0994857e+01  -1.8696136e+01  1.41e+02  0.00e+00  1.49e+01  1.07e-01\n",
      "   3   1.0895354e+00   1.0997897e+00  7.21e+01  0.00e+00  7.64e+00  3.04e+00\n",
      "   4   1.3455538e+00   1.3036549e+00  1.51e+01  0.00e+00  1.59e+00  5.82e+00\n",
      "   5   1.8988473e+00   1.8322124e+00  5.76e+00  0.00e+00  6.11e-01  7.25e+00\n",
      "   6   1.8573983e+00   1.8167553e+00  3.17e+00  0.00e+00  3.36e-01  1.54e+01\n",
      "   7   1.9762908e+00   1.9733521e+00  1.07e+00  0.00e+00  1.13e-01  2.15e+02\n",
      "   8   2.0008198e+00   2.0005011e+00  7.59e-02  0.00e+00  8.04e-03  2.08e+03\n",
      "   9   2.0015342e+00   2.0013783e+00  7.23e-03  0.00e+00  7.66e-04  4.38e+03\n",
      "  10   2.0022394e+00   2.0022115e+00  3.21e-03  0.00e+00  3.40e-04  2.46e+04\n",
      "  11   2.0023137e+00   2.0023047e+00  5.69e-04  0.00e+00  6.03e-05  7.69e+04\n",
      "  12   2.0023395e+00   2.0023369e+00  1.78e-04  0.00e+00  1.88e-05  2.64e+05\n",
      "  13   2.0023454e+00   2.0023451e+00  5.09e-05  0.00e+00  5.40e-06  1.89e+06\n",
      "  14   2.0023465e+00   2.0023465e+00  6.81e-06  0.00e+00  7.22e-07  1.22e+07\n",
      "1\n",
      "optimal\n",
      "[0.12911933980042337, 0.5499503118913448, 0.825155696746801] 2.002346511143858\n"
     ]
    }
   ],
   "source": [
    "# create an empty optimization problem\n",
    "prob = cp.Cplex()\n",
    "\n",
    "# add decision variables to the problem including their linear coefficients in objective and ranges\n",
    "prob.variables.add(obj = c0.tolist(), lb = l.tolist(), ub = u.tolist())\n",
    "\n",
    "# add quadratic coefficients in objective\n",
    "row_indices, col_indices = Q0.nonzero()\n",
    "prob.objective.set_quadratic_coefficients(zip(row_indices.tolist(), col_indices.tolist(), Q0.data.tolist()))\n",
    "\n",
    "# define problem type\n",
    "if direction == \"maximize\":\n",
    "    prob.objective.set_sense(prob.objective.sense.maximize)\n",
    "else:\n",
    "    prob.objective.set_sense(prob.objective.sense.minimize)\n",
    "\n",
    "# add constraints to the problem including their directions and right-hand side values\n",
    "prob.linear_constraints.add(senses = senses.tolist(), rhs = b.tolist())\n",
    "\n",
    "# add coefficients for each constraint\n",
    "row_indices, col_indices = A.nonzero()\n",
    "prob.linear_constraints.set_coefficients(zip(row_indices.tolist(), col_indices.tolist(), A.data.tolist()))\n",
    "\n",
    "# add quadratic constraints to the problem including their directions and right-hand side values\n",
    "row_indices, col_indices = Q1.nonzero()\n",
    "prob.quadratic_constraints.add(quad_expr = cp.SparseTriple(row_indices.tolist(), \n",
    "                                                           col_indices.tolist(), \n",
    "                                                           Q1.data.tolist()),\n",
    "                               sense = sense1, rhs = d1)\n",
    "\n",
    "print(prob.write_as_string())\n",
    "\n",
    "# solve the problem\n",
    "prob.solve()\n",
    "\n",
    "# check the solution status\n",
    "print(prob.solution.get_status())\n",
    "print(prob.solution.status[prob.solution.get_status()])\n",
    "\n",
    "# get the solution\n",
    "x_star = prob.solution.get_values()\n",
    "obj_star = prob.solution.get_objective_value()\n",
    "\n",
    "print(x_star, obj_star)"
   ]
  }
 ],
 "metadata": {
  "kernelspec": {
   "display_name": "Python 3",
   "language": "python",
   "name": "python3"
  },
  "language_info": {
   "codemirror_mode": {
    "name": "ipython",
    "version": 3
   },
   "file_extension": ".py",
   "mimetype": "text/x-python",
   "name": "python",
   "nbconvert_exporter": "python",
   "pygments_lexer": "ipython3",
   "version": "3.7.7"
  }
 },
 "nbformat": 4,
 "nbformat_minor": 4
}
